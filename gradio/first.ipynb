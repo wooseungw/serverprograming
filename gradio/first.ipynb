{
 "cells": [
  {
   "cell_type": "code",
   "execution_count": 2,
   "metadata": {},
   "outputs": [
    {
     "name": "stdout",
     "output_type": "stream",
     "text": [
      "Running on local URL:  http://127.0.0.1:7862\n",
      "\n",
      "To create a public link, set `share=True` in `launch()`.\n"
     ]
    },
    {
     "data": {
      "text/html": [
       "<div><iframe src=\"http://127.0.0.1:7862/\" width=\"100%\" height=\"500\" allow=\"autoplay; camera; microphone; clipboard-read; clipboard-write;\" frameborder=\"0\" allowfullscreen></iframe></div>"
      ],
      "text/plain": [
       "<IPython.core.display.HTML object>"
      ]
     },
     "metadata": {},
     "output_type": "display_data"
    },
    {
     "data": {
      "text/plain": []
     },
     "execution_count": 2,
     "metadata": {},
     "output_type": "execute_result"
    }
   ],
   "source": [
    "import gradio as gr\n",
    "\n",
    "#어떤 파일을 열 때 with 블록을 사용하면, 그 블록이 끝나면 파일이 자동으로 닫힌다.\n",
    "#그래서 메모리 누수를 막을 수 있어 권장된다.\n",
    "with gr.Blocks() as demo:\n",
    "    html = \"\"\"\n",
    "        <h3>Hello, world!</h3>\n",
    "        <a href=\"http://www.google.com\">google</a>\n",
    "        \n",
    "    \"\"\"\n",
    "    gr.HTML(\"<h1>Hello, world!</h1>\")\n",
    "    gr.HTML(\"<h2>Hello, world!</h2>\")\n",
    "    gr.HTML(html)\n",
    "    gr.Markdown(\"# Hello, world!\")\n",
    "    gr.Markdown(\"## Hello, world!\")\n",
    "    gr.Markdown(\"### Hello, world!\")\n",
    "    gr.Markdown(\"- Hello, world!\")\n",
    "    gr.Markdown(\"+ Hello, world!\")\n",
    "    gr.Markdown(\" **Hello, world!**\")\n",
    "    \n",
    "demo.launch()"
   ]
  },
  {
   "cell_type": "markdown",
   "metadata": {},
   "source": [
    "# 텍스트박스\n",
    "\n",
    "무조건 전체 다 차지함"
   ]
  },
  {
   "cell_type": "code",
   "execution_count": 9,
   "metadata": {},
   "outputs": [
    {
     "name": "stdout",
     "output_type": "stream",
     "text": [
      "Writing gradio_2.py\n"
     ]
    }
   ],
   "source": [
    "# \"%%writefile gradio_2.py\" 해당 셀 내용을 py 파일로 저장\n",
    "with gr.Blocks() as demo:\n",
    "    gr.Textbox()\n",
    "    gr.Textbox(\"기본값\")\n",
    "    gr.Textbox(\"기본값\", label=\"사용자명\")\n",
    "    gr.Textbox(label=\"사용자명\", placeholder=\"사용자명을 입력하세요\")\n",
    "    gr.Textbox(lines=2)\n",
    "demo.launch()"
   ]
  },
  {
   "cell_type": "markdown",
   "metadata": {},
   "source": []
  },
  {
   "cell_type": "code",
   "execution_count": 12,
   "metadata": {},
   "outputs": [
    {
     "name": "stdout",
     "output_type": "stream",
     "text": [
      "Running on local URL:  http://127.0.0.1:7870\n",
      "\n",
      "To create a public link, set `share=True` in `launch()`.\n"
     ]
    },
    {
     "data": {
      "text/html": [
       "<div><iframe src=\"http://127.0.0.1:7870/\" width=\"100%\" height=\"500\" allow=\"autoplay; camera; microphone; clipboard-read; clipboard-write;\" frameborder=\"0\" allowfullscreen></iframe></div>"
      ],
      "text/plain": [
       "<IPython.core.display.HTML object>"
      ]
     },
     "metadata": {},
     "output_type": "display_data"
    },
    {
     "data": {
      "text/plain": []
     },
     "execution_count": 12,
     "metadata": {},
     "output_type": "execute_result"
    },
    {
     "name": "stdout",
     "output_type": "stream",
     "text": [
      "\n",
      "\n",
      "\n",
      "\n",
      "\n",
      "\n",
      "\n"
     ]
    }
   ],
   "source": [
    "def click() :\n",
    "    print(\"^^^\")\n",
    "with gr.Blocks() as demo:\n",
    "    btn = gr.Button(\"click\")\n",
    "    btn.click(click)\n",
    "def click(name) :\n",
    "    print(name)\n",
    "    return \"    -->\" + name\n",
    "with gr.Blocks() as demo:\n",
    "    name = gr.Textbox()\n",
    "    output = gr.Textbox()\n",
    "    btn = gr.Button(\"click\")\n",
    "    btn.click(click, name, output)\n",
    "demo.launch()"
   ]
  },
  {
   "cell_type": "code",
   "execution_count": 33,
   "metadata": {},
   "outputs": [
    {
     "name": "stdout",
     "output_type": "stream",
     "text": [
      "Running on local URL:  http://127.0.0.1:7889\n",
      "\n",
      "To create a public link, set `share=True` in `launch()`.\n"
     ]
    },
    {
     "data": {
      "text/html": [
       "<div><iframe src=\"http://127.0.0.1:7889/\" width=\"100%\" height=\"500\" allow=\"autoplay; camera; microphone; clipboard-read; clipboard-write;\" frameborder=\"0\" allowfullscreen></iframe></div>"
      ],
      "text/plain": [
       "<IPython.core.display.HTML object>"
      ]
     },
     "metadata": {},
     "output_type": "display_data"
    },
    {
     "data": {
      "text/plain": []
     },
     "execution_count": 33,
     "metadata": {},
     "output_type": "execute_result"
    }
   ],
   "source": [
    "def cal(v1,v2) :\n",
    "    \n",
    "    return int(v1) + int(v2)\n",
    "    \n",
    "with gr.Blocks() as demo:\n",
    "    \n",
    "    with gr.Row() :\n",
    "        o1 = gr.Text(label=\"o1\")\n",
    "        o2 = gr.Text(label=\"o2\")\n",
    "    btn = gr.Button(\"click\", scale=1)\n",
    "    o3 = gr.Text(\"0\", label=\"Result\")    \n",
    "    btn.click(cal,[o1,o2],o3)\n",
    "    \n",
    "demo.launch()"
   ]
  },
  {
   "cell_type": "code",
   "execution_count": 34,
   "metadata": {},
   "outputs": [
    {
     "name": "stdout",
     "output_type": "stream",
     "text": [
      "Running on local URL:  http://127.0.0.1:7890\n",
      "\n",
      "To create a public link, set `share=True` in `launch()`.\n"
     ]
    },
    {
     "data": {
      "text/html": [
       "<div><iframe src=\"http://127.0.0.1:7890/\" width=\"100%\" height=\"500\" allow=\"autoplay; camera; microphone; clipboard-read; clipboard-write;\" frameborder=\"0\" allowfullscreen></iframe></div>"
      ],
      "text/plain": [
       "<IPython.core.display.HTML object>"
      ]
     },
     "metadata": {},
     "output_type": "display_data"
    },
    {
     "data": {
      "text/plain": []
     },
     "execution_count": 34,
     "metadata": {},
     "output_type": "execute_result"
    }
   ],
   "source": [
    "def cal(v1,v2) :\n",
    "    return int(v1) + int(v2) , \"출력했다.\"\n",
    "\n",
    "#위와 동일\n",
    "def cal(v1,v2) :\n",
    "    return (int(v1) + int(v2) , \"출력했다.\")\n",
    "\n",
    "with gr.Blocks() as demo:\n",
    "    \n",
    "    with gr.Row() :\n",
    "        o1 = gr.Text(label=\"o1\")\n",
    "        o2 = gr.Text(label=\"o2\")\n",
    "    btn = gr.Button(\"click\", scale=1)\n",
    "    o3 = gr.Text(\"0\", label=\"Result\")    \n",
    "    p = gr.Text(\"0\", label=\"Print\")\n",
    "    btn.click(cal,[o1,o2],[o3,p])\n",
    "    \n",
    "demo.launch()"
   ]
  },
  {
   "cell_type": "code",
   "execution_count": 35,
   "metadata": {},
   "outputs": [
    {
     "name": "stdout",
     "output_type": "stream",
     "text": [
      "Running on local URL:  http://127.0.0.1:7891\n",
      "\n",
      "To create a public link, set `share=True` in `launch()`.\n"
     ]
    },
    {
     "data": {
      "text/html": [
       "<div><iframe src=\"http://127.0.0.1:7891/\" width=\"100%\" height=\"500\" allow=\"autoplay; camera; microphone; clipboard-read; clipboard-write;\" frameborder=\"0\" allowfullscreen></iframe></div>"
      ],
      "text/plain": [
       "<IPython.core.display.HTML object>"
      ]
     },
     "metadata": {},
     "output_type": "display_data"
    },
    {
     "data": {
      "text/plain": []
     },
     "execution_count": 35,
     "metadata": {},
     "output_type": "execute_result"
    }
   ],
   "source": [
    "def response(message, history):\n",
    "    return \"Bot : \" + message\n",
    "gr.ChatInterface(fn=response).launch()"
   ]
  },
  {
   "cell_type": "code",
   "execution_count": 37,
   "metadata": {},
   "outputs": [
    {
     "name": "stdout",
     "output_type": "stream",
     "text": [
      "Running on local URL:  http://127.0.0.1:7892\n",
      "\n",
      "To create a public link, set `share=True` in `launch()`.\n"
     ]
    },
    {
     "data": {
      "text/html": [
       "<div><iframe src=\"http://127.0.0.1:7892/\" width=\"100%\" height=\"500\" allow=\"autoplay; camera; microphone; clipboard-read; clipboard-write;\" frameborder=\"0\" allowfullscreen></iframe></div>"
      ],
      "text/plain": [
       "<IPython.core.display.HTML object>"
      ]
     },
     "metadata": {},
     "output_type": "display_data"
    },
    {
     "data": {
      "text/plain": []
     },
     "execution_count": 37,
     "metadata": {},
     "output_type": "execute_result"
    }
   ],
   "source": [
    "with gr.Blocks() as demo:\n",
    "    chatbot = gr.Chatbot()\n",
    "    msg = gr.Textbox(autofocus=True)\n",
    "    def respond(message, chat_history):\n",
    "        chat_history.append((message, \"Bot : \" + message))\n",
    "        return \"\", chat_history\n",
    "\n",
    "    msg.submit(respond, [msg, chatbot], [msg, chatbot])\n",
    "demo.launch()"
   ]
  }
 ],
 "metadata": {
  "kernelspec": {
   "display_name": "pyserverprog",
   "language": "python",
   "name": "python3"
  },
  "language_info": {
   "codemirror_mode": {
    "name": "ipython",
    "version": 3
   },
   "file_extension": ".py",
   "mimetype": "text/x-python",
   "name": "python",
   "nbconvert_exporter": "python",
   "pygments_lexer": "ipython3",
   "version": "3.12.2"
  }
 },
 "nbformat": 4,
 "nbformat_minor": 2
}
