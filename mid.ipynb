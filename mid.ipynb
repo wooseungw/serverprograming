{
 "cells": [
  {
   "cell_type": "markdown",
   "metadata": {},
   "source": [
    "1) HTML은 중첩 태그를 허용하기 때문에 계층구조의 문서를 표현할수 있다 (o)\n",
    "2) <span> 태그는 단락 구분을 위해 한줄을 강제로비운다 (x)\n",
    "3) XHTML에서는 <img >가 아닌 <img />사용해야 한다 (o)"
   ]
  },
  {
   "cell_type": "markdown",
   "metadata": {},
   "source": [
    "h1, h2 { background-color: #f4f4f4; } h1태그와 h2태그의 배경 색상을 #f4f4f4로 지정한다\n",
    "#grid tr:nth-child(odd) { background-color: #f4f4f4; } grid 아이디를 가진 테이블의 홀수 번째 행의 배경 색상을 #f4f4f4로 지정한다"
   ]
  },
  {
   "cell_type": "markdown",
   "metadata": {},
   "source": [
    "1) Open API :\n",
    "\n",
    "오픈api는 서비스, 정보 등을 누구나 쉽게 쓸수 있게 만든 api이다\n",
    "데이터를 제어할수있는 간단하고 직관적인 인테페이스를 제공해 사용자의 참여를 유도한다.\n",
    "통신망 구조 및 기술에 독립적이다.\n",
    "\n",
    "2) Type Hint : \n",
    "\n",
    "함수의 변수값을 대입할 때 변수의 타입을 지정하는 것\n",
    "컴파일 이후에 유연하게 타입이 결정된다\n",
    "컴파일 안정성이 떨어져 대규모 프로그램에 적합하지 않다."
   ]
  },
  {
   "cell_type": "markdown",
   "metadata": {},
   "source": [
    "코드의 핵심 의미를 구체적으로 설명하시오\n",
    "\n",
    "content = “<h1>Hello</h1>”\n",
    "\n",
    "client_connection.send('HTTP/1.0 200 OK\\n\\n'.encode()) \n",
    "\n",
    "_1) 클라이언트의 요청에 대한 서버 응답으로 200 OK를 전송한다. 상태 코드 200은 요청이 성공적으로 처리되었음을 나타냅니다.\n",
    "\n",
    "client_connection.send(content.encode()) \n",
    "\n",
    "_2) content 변수에 저장된 내용을 클라이언트에게 전송한다. 사용자에게 \"Hello\"를 h1으로 표시한다.\n",
    "\n",
    "client_connection.close() \n",
    "\n",
    "_3) 클라이언트와의 연결을 종료한다."
   ]
  },
  {
   "cell_type": "markdown",
   "metadata": {},
   "source": [
    "5. 아래 코드는 브라우저에서 입력 받은 사용자 데이터(userid)를 python에서 처리하기 위한 코드이다. 세 개의 의미가 구분되도록 설명하시오.\n",
    "\n",
    " userid = request.args[“userid\"]\n",
    " \n",
    "1) 유저 아이디는 브라우저에서 입력받은 아규먼트 중 userid이다. 정의가 안되있으면 오류발생된다.\n",
    "\n",
    "userid = request.args.get(\"userid\")\n",
    "\n",
    " 2) 겟방식으로 전달된 userid를 변수에 저장한다. 정의가 안되어 있으면 \"\"\n",
    "\n",
    "userid = request.args.get(\"userid\", \"\")\n",
    "\n",
    " 3) 겟방식으로 전달된 userid를 변수에 저장한다. userid가 없을 경우 \"\"을 반환한다.\n"
   ]
  },
  {
   "cell_type": "markdown",
   "metadata": {},
   "source": [
    "아래 코드는 FastAPI에서 동적 URL을 처리하기 위한 코드이다. 문법에 맞도록 빈칸을 채우시오.\n",
    "\n",
    "@app.get(\"/5 **/{id}\"**)\n",
    "\n",
    "async def root5(id = 20) :\n",
    "\n",
    "return **{\"id\" : id}**"
   ]
  },
  {
   "cell_type": "markdown",
   "metadata": {},
   "source": [
    "7 cites = [“부산”, “제주도”, “인천”]에 대해 날씨 정보를 출력하는 코드를 작성하시오.\n",
    "\n",
    " 1) naver 날씨 정보 요청 경로 생성\n",
    "\n",
    "2) 도시 삭제 URL : 경로명 /weatherdel 필수 파라미터 city\n",
    "\n",
    "{% for c in cities %}\n",
    "<a href=\"https://search.naver.com/search.naver?where=nexearch&query=_ **{{c}}날씨** \">{{c}} </a>\n",
    "<a href=\"**/weatherdel?city={{c}}**\"><img src=\"/static/del.png\" width=\"16\" height=\"16\"></a>\n",
    "<br/>\n",
    "{% endfor %}"
   ]
  },
  {
   "cell_type": "markdown",
   "metadata": {},
   "source": [
    "8-10) 게임 중독을 점검할 수 있는 서비스를 만들고자 한다.\n",
    "\n",
    " 게임 중독을 진단할 수 있는 다수의 질문이 주어지고 사용자는 해당 여부를 체크한다. 체크한 질문의 개수에 따라 중독, 상담필요, 정상으로 결과를 표시한다.\n",
    " \n",
    "  - 질문의 개수는 변할 수 있음 \n",
    "  - 체크 박스 : <input type=“checkbox” name=“”/>\n",
    "\n",
    "질문의 예)\n",
    "컴퓨터를 켠 후 가장 먼저 게임을 시작한다. \n",
    "\n",
    "꼭 해야할 일이 없으면 거의 모든 시간을 게임하는데 보낸다.\n",
    "\n",
    " 게임을 하고 있지 않는데도 게임을 하는 느낌이 들 때가 있다. \n",
    " \n",
    " 게임을 한 이후로 해야 할 일이나 물건을 잃어버리는 등 건망증이 심해졌다.\n",
    " \n",
    "  게임때문에 시험(일)을 망친 적이 있다. "
   ]
  },
  {
   "cell_type": "markdown",
   "metadata": {},
   "source": [
    "8. 화면을 설계하시오. \n",
    "\n",
    "1) 화면설계\n",
    "입력 받기 위한 화면 from과 jinja2 template 코드로 작성된 체크박스\n",
    "질문의 개수에 따라 체크박스가 생성되어야 한다.\n",
    "\n",
    "결과 출력을 위한 화면엔 체크된 질문의 개수에 따라 결과를 출력한다.\n",
    "jinja2 template 코드에 따라 결과를 출력한다.\n",
    "\n",
    "\n",
    "2) 질문 내용을 출력하기 위한 jinja2 template 코드\n",
    "<form>\n",
    "{% for q in questions %}\n",
    "<input type=\"checkbox\" name=\"q\">{{q}}<br/>\n",
    "{% endfor %}\n",
    "</form>\n",
    "9. 질문 내용을 출력하는 python 코드를 작성하시오. \n",
    "\n",
    "1) pseudo code: for q in questions:checkbox 생성\n",
    "\n",
    "2) @app.route('/form’)\n",
    "def form():\n",
    "    return render_template('form.html', questions=questions)\n",
    "\n",
    "10. 게임 중독 결과를 출력하는 python 코드를 작성하시오. - 70% 이상 체크면 중독, 50% 이내면 상담 필요, 20%이하면 정상\n",
    "1) pseudo code:\n",
    "2) @app.route(‘/result’)\n",
    "def result():\n",
    "    total = len(questions)\n",
    "    checked = 0\n",
    "    for q in questions:\n",
    "        if request.form.get(from):\n",
    "            checked += 1\n",
    "    if checked / total >= 0.7:\n",
    "        result = ‘중독’\n",
    "    elif checked / total <= 0.2:\n",
    "        result = ‘정상’\n",
    "    else:\n",
    "        result = ‘상담 필요’\n",
    "    return render_template(‘result.html’, result=result)"
   ]
  }
 ],
 "metadata": {
  "language_info": {
   "name": "python"
  }
 },
 "nbformat": 4,
 "nbformat_minor": 2
}
